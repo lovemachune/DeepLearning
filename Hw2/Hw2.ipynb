{
 "cells": [
  {
   "cell_type": "code",
   "execution_count": 46,
   "metadata": {},
   "outputs": [],
   "source": [
    "import tensorflow as tf\n",
    "import matplotlib.pyplot as plt\n",
    "#from tensorflow.examples. tutorials.mnist import input_data\n",
    "from tensorflow.keras.models import Sequential, load_model\n",
    "from tensorflow.keras import layers\n",
    "from tensorflow.keras.layers import Dense, Dropout, Flatten, Conv2D, MaxPooling2D\n",
    "from tensorflow.keras import utils as np_utils\n",
    "from tensorflow.keras.datasets import mnist\n",
    "from tensorflow.keras.callbacks import Callback"
   ]
  },
  {
   "cell_type": "code",
   "execution_count": 9,
   "metadata": {},
   "outputs": [],
   "source": [
    "(X_train, Y_train), (X_test, Y_test) = mnist.load_data()\n",
    "x_train = X_train.reshape(-1, 28, 28, 1)/255\n",
    "x_test = X_test.reshape(-1, 28, 28, 1)/255\n",
    "y_train = np_utils.to_categorical(Y_train)\n",
    "y_test = np_utils.to_categorical(Y_test)\n",
    "x_val = x_train[:5000]\n",
    "x_train = x_train[5000:]\n",
    "y_val = y_train[:5000]\n",
    "y_train = y_train[5000:]"
   ]
  },
  {
   "cell_type": "code",
   "execution_count": 147,
   "metadata": {},
   "outputs": [],
   "source": [
    "model = Sequential()  \n",
    "model.add(Conv2D(filters=32,  kernel_size=(3,3),  padding='same',  input_shape=(28,28,1),  activation='relu'))   \n",
    "model.add(MaxPooling2D(pool_size=(2,2)))      \n",
    "model.add(Flatten()) \n",
    "model.add(Dense(10, activation='softmax'))  "
   ]
  },
  {
   "cell_type": "code",
   "execution_count": 148,
   "metadata": {},
   "outputs": [
    {
     "name": "stdout",
     "output_type": "stream",
     "text": [
      "Model: \"sequential_15\"\n",
      "_________________________________________________________________\n",
      "Layer (type)                 Output Shape              Param #   \n",
      "=================================================================\n",
      "conv2d_15 (Conv2D)           (None, 28, 28, 32)        320       \n",
      "_________________________________________________________________\n",
      "max_pooling2d_15 (MaxPooling (None, 14, 14, 32)        0         \n",
      "_________________________________________________________________\n",
      "flatten_15 (Flatten)         (None, 6272)              0         \n",
      "_________________________________________________________________\n",
      "dense_18 (Dense)             (None, 10)                62730     \n",
      "=================================================================\n",
      "Total params: 63,050\n",
      "Trainable params: 63,050\n",
      "Non-trainable params: 0\n",
      "_________________________________________________________________\n"
     ]
    }
   ],
   "source": [
    "model.summary()"
   ]
  },
  {
   "cell_type": "code",
   "execution_count": 149,
   "metadata": {
    "scrolled": true
   },
   "outputs": [
    {
     "name": "stdout",
     "output_type": "stream",
     "text": [
      "Epoch 1/10\n",
      "860/860 [==============================] - 9s 10ms/step - loss: 0.2896 - accuracy: 0.9195 - val_loss: 0.1343 - val_accuracy: 0.9648\n",
      "Epoch 2/10\n",
      "860/860 [==============================] - 9s 10ms/step - loss: 0.1037 - accuracy: 0.9711 - val_loss: 0.0854 - val_accuracy: 0.9752\n",
      "Epoch 3/10\n",
      "860/860 [==============================] - 9s 10ms/step - loss: 0.0735 - accuracy: 0.9794 - val_loss: 0.0734 - val_accuracy: 0.9784\n",
      "Epoch 4/10\n",
      "860/860 [==============================] - 9s 10ms/step - loss: 0.0601 - accuracy: 0.9820 - val_loss: 0.0686 - val_accuracy: 0.9808\n",
      "Epoch 5/10\n",
      "860/860 [==============================] - 9s 10ms/step - loss: 0.0516 - accuracy: 0.9847 - val_loss: 0.0614 - val_accuracy: 0.9834\n",
      "Epoch 6/10\n",
      "860/860 [==============================] - 9s 10ms/step - loss: 0.0463 - accuracy: 0.9858 - val_loss: 0.0702 - val_accuracy: 0.9786\n",
      "Epoch 7/10\n",
      "860/860 [==============================] - 9s 10ms/step - loss: 0.0406 - accuracy: 0.9880 - val_loss: 0.0634 - val_accuracy: 0.9824\n",
      "Epoch 8/10\n",
      "860/860 [==============================] - 9s 10ms/step - loss: 0.0363 - accuracy: 0.9891 - val_loss: 0.0645 - val_accuracy: 0.9822\n",
      "Epoch 9/10\n",
      "860/860 [==============================] - 9s 10ms/step - loss: 0.0323 - accuracy: 0.9901 - val_loss: 0.0641 - val_accuracy: 0.9828\n",
      "Epoch 10/10\n",
      "860/860 [==============================] - 9s 10ms/step - loss: 0.0298 - accuracy: 0.9912 - val_loss: 0.0612 - val_accuracy: 0.9840\n",
      "313/313 [==============================] - 1s 2ms/step - loss: 0.0552 - accuracy: 0.9826\n",
      "[0.0552154965698719, 0.9825999736785889]\n"
     ]
    }
   ],
   "source": [
    "class TestCallback(Callback):\n",
    "    def __init__(self, test_data):\n",
    "        self.test_data = test_data\n",
    "        self.loss = []\n",
    "        self.acc = []\n",
    "\n",
    "    def on_epoch_end(self, epoch, logs={}):\n",
    "        x, y = self.test_data\n",
    "        loss, acc = self.model.evaluate(x, y, verbose=0)\n",
    "        self.loss.append(loss)\n",
    "        self.acc.append(acc)\n",
    "    def get_history(self):\n",
    "        return (self.loss, self.acc)\n",
    "mycallback = TestCallback([x_test, y_test])        \n",
    "model.compile(loss='categorical_crossentropy', optimizer='adam', metrics=['accuracy'])\n",
    "history= model.fit(x_train, y_train, epochs=10, batch_size=64, shuffle=True, validation_data=(x_val, y_val), callbacks=mycallback)\n",
    "print(model.evaluate(x_test, y_test))"
   ]
  },
  {
   "cell_type": "code",
   "execution_count": 150,
   "metadata": {},
   "outputs": [
    {
     "data": {
      "image/png": "[encoded data removed]",
      "text/plain": [
       "<Figure size 432x288 with 1 Axes>"
      ]
     },
     "metadata": {
      "needs_background": "light"
     },
     "output_type": "display_data"
    }
   ],
   "source": [
    "train_loss = history.history['loss']\n",
    "train_acc = history.history['accuracy']\n",
    "val_loss = history.history['val_loss']\n",
    "val_acc = history.history['val_accuracy']\n",
    "test_loss, test_acc = mycallback.get_history()\n",
    "t = range(len(train_loss))\n",
    "plt.plot(t, train_acc, label='train')\n",
    "plt.plot(t, val_acc, label='val')\n",
    "plt.plot(t, test_acc, label='test')\n",
    "plt.legend()\n",
    "plt.show()"
   ]
  },
  {
   "cell_type": "code",
   "execution_count": 155,
   "metadata": {},
   "outputs": [
    {
     "data": {
      "image/png": "[encoded data removed]",
      "text/plain": [
       "<Figure size 432x288 with 1 Axes>"
      ]
     },
     "metadata": {
      "needs_background": "light"
     },
     "output_type": "display_data"
    },
    {
     "data": {
      "image/png": "[encoded data removed]",
      "text/plain": [
       "<Figure size 432x288 with 1 Axes>"
      ]
     },
     "metadata": {
      "needs_background": "light"
     },
     "output_type": "display_data"
    },
    {
     "data": {
      "image/png": "[encoded data removed]",
      "text/plain": [
       "<Figure size 432x288 with 1 Axes>"
      ]
     },
     "metadata": {
      "needs_background": "light"
     },
     "output_type": "display_data"
    },
    {
     "data": {
      "image/png": "[encoded data removed]",
      "text/plain": [
       "<Figure size 432x288 with 1 Axes>"
      ]
     },
     "metadata": {
      "needs_background": "light"
     },
     "output_type": "display_data"
    }
   ],
   "source": [
    "weights = model.get_weights()\n",
    "for idx, fc in enumerate(weights):\n",
    "    plt.figure()\n",
    "    plt.hist(fc.flatten(), 100)\n",
    "    plt.xlabel('layer ' + str(idx + 1))\n",
    "    plt.ylabel('number')\n",
    "plt.show()"
   ]
  },
  {
   "cell_type": "code",
   "execution_count": 138,
   "metadata": {},
   "outputs": [
    {
     "name": "stdout",
     "output_type": "stream",
     "text": [
      "Model: \"sequential_14\"\n",
      "_________________________________________________________________\n",
      "Layer (type)                 Output Shape              Param #   \n",
      "=================================================================\n",
      "conv2d_14 (Conv2D)           (None, 28, 28, 16)        160       \n",
      "_________________________________________________________________\n",
      "max_pooling2d_14 (MaxPooling (None, 14, 14, 16)        0         \n",
      "_________________________________________________________________\n",
      "flatten_14 (Flatten)         (None, 3136)              0         \n",
      "_________________________________________________________________\n",
      "dense_17 (Dense)             (None, 10)                31370     \n",
      "=================================================================\n",
      "Total params: 31,530\n",
      "Trainable params: 31,530\n",
      "Non-trainable params: 0\n",
      "_________________________________________________________________\n"
     ]
    }
   ],
   "source": [
    "model.summary()"
   ]
  },
  {
   "cell_type": "code",
   "execution_count": null,
   "metadata": {},
   "outputs": [],
   "source": []
  }
 ],
 "metadata": {
  "kernelspec": {
   "display_name": "tf",
   "language": "python",
   "name": "tf"
  },
  "language_info": {
   "codemirror_mode": {
    "name": "ipython",
    "version": 3
   },
   "file_extension": ".py",
   "mimetype": "text/x-python",
   "name": "python",
   "nbconvert_exporter": "python",
   "pygments_lexer": "ipython3",
   "version": "3.6.12"
  }
 },
 "nbformat": 4,
 "nbformat_minor": 4
}
