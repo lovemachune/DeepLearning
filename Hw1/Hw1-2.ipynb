{
 "cells": [
  {
   "cell_type": "code",
   "execution_count": 1,
   "metadata": {},
   "outputs": [],
   "source": [
    "import pandas as pd\n",
    "import numpy as np\n",
    "import random\n",
    "import copy\n",
    "import matplotlib.pyplot as plt\n",
    "from sklearn.model_selection import train_test_split\n",
    "from sklearn.utils import shuffle\n",
    "from sklearn.preprocessing import Normalizer\n",
    "from mpl_toolkits.mplot3d import Axes3D"
   ]
  },
  {
   "cell_type": "code",
   "execution_count": 2,
   "metadata": {},
   "outputs": [],
   "source": [
    "class myNN():\n",
    "    def __init__(self, architecture, learning_rate):\n",
    "        self.architecture = architecture\n",
    "        self.learning_rate = learning_rate\n",
    "        self.params = {}\n",
    "        self.init_layers()\n",
    "        self.train_loss_history = []\n",
    "        self.test_loss_history = []\n",
    "        self.latent_train_feature = []\n",
    "        self.latent_test_feature = []\n",
    "        \n",
    "    def init_layers(self):\n",
    "        for index, layer in enumerate(self.architecture):\n",
    "            layer_index = index + 1\n",
    "            layer_input_size = layer['input_dim']\n",
    "            layer_output_size = layer['output_dim']\n",
    "            self.params['W' + str(layer_index)] = np.random.randn(layer_output_size, layer_input_size)*0.1\n",
    "            self.params['b' + str(layer_index)] = np.random.randn(layer_output_size, 1)*0.1\n",
    "            \n",
    "    def sigmoid(self, Z):\n",
    "        return 1/(1+np.exp(-Z))\n",
    "    \n",
    "    def relu(self, Z):\n",
    "        return np.maximum(0,Z)\n",
    "    \n",
    "    def linear(self, Z):\n",
    "        return Z\n",
    "    \n",
    "    def sigmoid_backward(self, dA, Z):\n",
    "        sig = self.sigmoid(Z)\n",
    "        return dA*sig*(1-sig)\n",
    "    \n",
    "    def relu_backward(self, dA, Z):\n",
    "        dZ = np.array(dA, copy = True)\n",
    "        dZ[Z<=0] = 0\n",
    "        return dZ\n",
    "    \n",
    "    def linear_backward(self, dA, Z):\n",
    "        return dA\n",
    "    \n",
    "    def single_layer_FP(self, A_prev, W_curr, b_curr, activation='relu'):\n",
    "        Z_curr = np.dot(W_curr, A_prev) + b_curr\n",
    "        if activation == 'relu':\n",
    "            activation_func = self.relu\n",
    "        elif activation == 'sigmoid':\n",
    "            activation_func = self.sigmoid\n",
    "        elif activation == 'linear':\n",
    "            activation_func = self.linear\n",
    "        else:\n",
    "            raise Exception('Non-supported activation function')\n",
    "        return activation_func(Z_curr), Z_curr\n",
    "    \n",
    "    def forward_propagation(self, x):\n",
    "        memory = {}\n",
    "        A_curr = x\n",
    "        for index, layer in enumerate(self.architecture):\n",
    "            layer_index = index + 1\n",
    "            A_prev = A_curr\n",
    "            activation_func = layer['activation']\n",
    "            W_curr = self.params['W'+str(layer_index)]\n",
    "            b_curr = self.params['b'+str(layer_index)]\n",
    "            A_curr, Z_curr = self.single_layer_FP(A_prev, W_curr, b_curr, activation_func)\n",
    "            memory[\"A\"+str(index)] = A_prev\n",
    "            memory[\"Z\"+str(layer_index)] = Z_curr\n",
    "            \n",
    "        return A_curr, memory\n",
    "        \n",
    "    def get_loss_value(self, y, y_predict):\n",
    "        n = y.shape[1]\n",
    "        loss = np.nansum(-y*np.log(y_predict)-(1-y)*np.log(1-y_predict))/n\n",
    "        return np.squeeze(loss)\n",
    "    \n",
    "    def single_layer_BP(self, dA_curr, W_curr, b_curr, Z_curr, A_prev, activation='relu'):\n",
    "        if activation == 'relu':\n",
    "            activation_func = self.relu_backward\n",
    "        elif activation == 'sigmoid':\n",
    "            activation_func = self.sigmoid_backward\n",
    "        elif activation == 'linear':\n",
    "            activation_func = self.linear_backward\n",
    "        else:\n",
    "            raise Exception('Non-supported activation function')\n",
    "        dZ_curr = activation_func(dA_curr, Z_curr)\n",
    "        dW_curr = np.dot(dZ_curr, A_prev.T)\n",
    "        db_curr = np.sum(dZ_curr, axis=1, keepdims=True)\n",
    "        dA_prev = np.dot(W_curr.T, dZ_curr)\n",
    "        return dA_prev, dW_curr, db_curr\n",
    "    \n",
    "    def back_propagation(self, y_predict, y, memory):\n",
    "        grads_values = {}\n",
    "        dA_prev = -(np.divide(y, y_predict) - np.divide(1-y, 1-y_predict))\n",
    "        for layer_prev_index, layer in reversed(list(enumerate(self.architecture))):\n",
    "            layer_cur_index = layer_prev_index+1\n",
    "            activation_func = layer['activation']\n",
    "            dA_curr = dA_prev\n",
    "            A_prev = memory['A' + str(layer_prev_index)]\n",
    "            Z_curr = memory['Z' + str(layer_cur_index)]\n",
    "            W_curr = self.params['W'+str(layer_cur_index)]\n",
    "            b_curr = self.params['b'+str(layer_cur_index)]\n",
    "            dA_prev, dW_curr, db_curr = self.single_layer_BP(dA_curr, W_curr, b_curr, Z_curr, A_prev, activation_func)\n",
    "            grads_values['dW'+str(layer_cur_index)] = dW_curr\n",
    "            grads_values['db'+str(layer_cur_index)] = db_curr\n",
    "        return grads_values\n",
    "    \n",
    "    def update(self, grads_values):\n",
    "        for index, layer in enumerate(self.architecture):\n",
    "            layer_idx = index + 1\n",
    "            self.params[\"W\" + str(layer_idx)] -= learning_rate * grads_values[\"dW\" + str(layer_idx)]        \n",
    "            self.params[\"b\" + str(layer_idx)] -= learning_rate * grads_values[\"db\" + str(layer_idx)]\n",
    "    \n",
    "    def train(self, x_train, y_train, x_test, y_test, epochs, batch_size=16):\n",
    "        for i in range(epochs):\n",
    "            x_train_s, y_train_s = shuffle(x_train, y_train)\n",
    "            for j in range(0 ,x_train.shape[0], batch_size):\n",
    "                start = j\n",
    "                end = j+batch_size\n",
    "                if end >= x_train.shape[0]:\n",
    "                    end = x_train.shape[0]-1\n",
    "                x_min = x_train_s[start:end]\n",
    "                y_min = y_train_s[start:end]\n",
    "                y_predict, memory = self.forward_propagation(x_min.T)\n",
    "                loss = self.get_loss_value(np.array([y_min]), y_predict)\n",
    "                grads_values = self.back_propagation(y_predict, np.array([y_min]), memory)\n",
    "                self.update(grads_values)\n",
    "                \n",
    "            y_train_predict, memory_train = self.predict(x_train.T)\n",
    "            y_test_predict, memory_test = self.predict(x_test.T)\n",
    "            train_loss = self.get_loss_value(np.array([y_train]), y_train_predict)\n",
    "            test_loss = self.get_loss_value(np.array([y_test]), y_test_predict)\n",
    "            self.train_loss_history.append(train_loss)\n",
    "            self.test_loss_history.append(test_loss)\n",
    "            train_acc = self.get_accuracy(y_train, y_train_predict)\n",
    "            test_acc = self.get_accuracy(y_test, y_test_predict)\n",
    "            \n",
    "            if (i+1)%10 == 0:\n",
    "                layer_index = len(self.architecture)-1\n",
    "                A_train=  memory_train[\"Z\"+str(layer_index)]\n",
    "                A_test=  memory_test[\"Z\"+str(layer_index)]\n",
    "                self.latent_train_feature.append(A_train)\n",
    "                self.latent_test_feature.append(A_test)\n",
    "            if (i+1) % 100 == 0 and i!=0:\n",
    "                print(\"Eposh : %4d/%d || training loss : %.4lf || traing acc : %.4lf\" % (i+1, epochs, train_loss, train_acc), end=\" \")\n",
    "                print(\"|| testing loss : %.4lf || testing acc : %.4lf\" % (test_loss, test_acc))\n",
    "    \n",
    "    def show_parm(self):\n",
    "        print(self.params)\n",
    "    \n",
    "    def predict(self, x):\n",
    "        y_predict, memory = self.forward_propagation(x)\n",
    "        return np.squeeze(y_predict), memory\n",
    "    \n",
    "    def get_loss_history(self):\n",
    "        return self.train_loss_history, self.test_loss_history\n",
    "\n",
    "    def get_accuracy(self, y_true, y_predict):\n",
    "        y_predict[y_predict>0.5] = 1\n",
    "        y_predict[y_predict<=0.5] = 0\n",
    "        count = 0\n",
    "        for v1, v2 in zip(y_true, y_predict):\n",
    "            if v1 == v2:\n",
    "                count +=1\n",
    "        return count/len(y_predict)\n",
    "    def get_latent_feature(self):\n",
    "        return [self.latent_train_feature, self.latent_test_feature]"
   ]
  },
  {
   "cell_type": "code",
   "execution_count": 3,
   "metadata": {},
   "outputs": [],
   "source": [
    "def show_graph(d1, d2, labels, length = 0, locs='upper left'):\n",
    "    t = range(len(d1))\n",
    "    if length != 0:\n",
    "        plt.plot(t[:length],d1[:length], 'r', label=labels[0])\n",
    "        plt.plot(t[:length],d2[:length], 'b', label=labels[1])\n",
    "    else:\n",
    "        plt.plot(t, d1, 'r', label=labels[0])\n",
    "        plt.plot(t, d2, 'b', label=labels[1])\n",
    "    plt.legend(loc=locs)\n",
    "    plt.show()"
   ]
  },
  {
   "cell_type": "code",
   "execution_count": 4,
   "metadata": {},
   "outputs": [],
   "source": [
    "def my_split_function(data, label, test_size):\n",
    "    random.seed(500)\n",
    "    data, label = shuffle(data, label)\n",
    "    train_len = int(len(data)*(1-test_size))\n",
    "    return (data[:train_len], data[train_len:], label[:train_len], label[train_len:])"
   ]
  },
  {
   "cell_type": "code",
   "execution_count": 28,
   "metadata": {},
   "outputs": [],
   "source": [
    "nn_architecture = [\n",
    "    {\"input_dim\": 34, \"output_dim\": 17, \"activation\": \"relu\"},\n",
    "    {\"input_dim\": 17, \"output_dim\": 8, \"activation\": \"relu\"},\n",
    "    {\"input_dim\": 8, \"output_dim\": 2, \"activation\": \"relu\"},\n",
    "    {\"input_dim\": 2, \"output_dim\": 1, \"activation\": \"sigmoid\"},\n",
    "]\n",
    "learning_rate = 0.0005"
   ]
  },
  {
   "cell_type": "code",
   "execution_count": 29,
   "metadata": {
    "scrolled": true
   },
   "outputs": [],
   "source": [
    "data = pd.read_csv('ionosphere_data.csv', header=None)\n",
    "label = data.pop(34)\n",
    "for index, value in enumerate(label):\n",
    "    if value == 'g':\n",
    "        label[index] = 0\n",
    "    else:\n",
    "        label[index] = 1\n",
    "label = label.to_numpy(dtype='int8')"
   ]
  },
  {
   "cell_type": "code",
   "execution_count": 30,
   "metadata": {},
   "outputs": [],
   "source": [
    "#data = Normalizer(norm='l1').fit_transform(data)\n",
    "x_train, x_test, y_train, y_test = my_split_function(data, label, test_size=0.2)"
   ]
  },
  {
   "cell_type": "code",
   "execution_count": 31,
   "metadata": {},
   "outputs": [],
   "source": [
    "model = myNN(nn_architecture, learning_rate)"
   ]
  },
  {
   "cell_type": "code",
   "execution_count": 32,
   "metadata": {},
   "outputs": [
    {
     "name": "stdout",
     "output_type": "stream",
     "text": [
      "Eposh :  100/1000 || training loss : 0.6684 || traing acc : 0.6107 || testing loss : 0.6026 || testing acc : 0.7606\n",
      "Eposh :  200/1000 || training loss : 0.6683 || traing acc : 0.6107 || testing loss : 0.6010 || testing acc : 0.7606\n",
      "Eposh :  300/1000 || training loss : 0.6682 || traing acc : 0.6107 || testing loss : 0.6007 || testing acc : 0.7606\n",
      "Eposh :  400/1000 || training loss : 0.6680 || traing acc : 0.6107 || testing loss : 0.6004 || testing acc : 0.7606\n",
      "Eposh :  500/1000 || training loss : 0.6675 || traing acc : 0.6107 || testing loss : 0.6003 || testing acc : 0.7606\n",
      "Eposh :  600/1000 || training loss : 0.6662 || traing acc : 0.6107 || testing loss : 0.5992 || testing acc : 0.7606\n",
      "Eposh :  700/1000 || training loss : 0.6589 || traing acc : 0.6107 || testing loss : 0.5930 || testing acc : 0.7606\n",
      "Eposh :  800/1000 || training loss : 0.5026 || traing acc : 0.8679 || testing loss : 0.4591 || testing acc : 0.9296\n",
      "Eposh :  900/1000 || training loss : 0.1867 || traing acc : 0.9643 || testing loss : 0.1946 || testing acc : 0.9577\n",
      "Eposh : 1000/1000 || training loss : 0.0888 || traing acc : 0.9893 || testing loss : 0.1496 || testing acc : 0.9577\n"
     ]
    }
   ],
   "source": [
    "model.train(x_train, y_train, x_test, y_test, 1000, batch_size=16)"
   ]
  },
  {
   "cell_type": "code",
   "execution_count": 33,
   "metadata": {},
   "outputs": [
    {
     "name": "stdout",
     "output_type": "stream",
     "text": [
      "0.9892857142857143\n"
     ]
    }
   ],
   "source": [
    "y_predict, _ = model.predict(x_train.T)\n",
    "y_predict[y_predict>0.5] = 1\n",
    "y_predict[y_predict<=0.5] = 0\n",
    "count = 0\n",
    "for v1, v2 in zip(y_predict, y_train):\n",
    "    if v1 == v2:\n",
    "        count +=1\n",
    "print(count/len(y_predict))"
   ]
  },
  {
   "cell_type": "code",
   "execution_count": 34,
   "metadata": {},
   "outputs": [
    {
     "name": "stdout",
     "output_type": "stream",
     "text": [
      "0.9577464788732394\n"
     ]
    }
   ],
   "source": [
    "y_predict, _ = model.predict(x_test.T)\n",
    "y_predict[y_predict>0.5] = 1\n",
    "y_predict[y_predict<=0.5] = 0\n",
    "count = 0\n",
    "for v1, v2 in zip(y_predict, y_test):\n",
    "    if v1 == v2:\n",
    "        count +=1\n",
    "print(count/len(y_predict))"
   ]
  },
  {
   "cell_type": "code",
   "execution_count": 35,
   "metadata": {},
   "outputs": [
    {
     "data": {
      "image/png": "[encoded data removed]",
      "text/plain": [
       "<Figure size 432x288 with 1 Axes>"
      ]
     },
     "metadata": {
      "needs_background": "light"
     },
     "output_type": "display_data"
    }
   ],
   "source": [
    "train_loss, test_loss = model.get_loss_history()\n",
    "t = range(len(train_loss))\n",
    "plt.plot(t, train_loss)\n",
    "plt.plot(t, test_loss)\n",
    "plt.show()"
   ]
  },
  {
   "cell_type": "code",
   "execution_count": 40,
   "metadata": {},
   "outputs": [
    {
     "data": {
      "image/png": "[encoded data removed]",
      "text/plain": [
       "<Figure size 432x288 with 1 Axes>"
      ]
     },
     "metadata": {
      "needs_background": "light"
     },
     "output_type": "display_data"
    }
   ],
   "source": [
    "latent_feature = model.get_latent_feature()\n",
    "fig, ax = plt.subplots()\n",
    "scatter = ax.scatter(latent_feature[0][99][0], latent_feature[0][99][0], c=y_train)\n",
    "classes = ['c1', 'c2']\n",
    "legend = plt.legend(handles=scatter.legend_elements()[0], labels=classes)\n",
    "ax.add_artist(legend)\n",
    "plt.show()"
   ]
  },
  {
   "cell_type": "code",
   "execution_count": 37,
   "metadata": {},
   "outputs": [
    {
     "data": {
      "image/png": "[encoded data removed]",
      "text/plain": [
       "<Figure size 432x288 with 1 Axes>"
      ]
     },
     "metadata": {
      "needs_background": "light"
     },
     "output_type": "display_data"
    }
   ],
   "source": [
    "latent_feature = model.get_latent_feature()\n",
    "fig, ax = plt.subplots()\n",
    "ax = plt.axes(projection='3d')\n",
    "scatter = ax.scatter(latent_feature[0][99][0], latent_feature[0][99][0], c=y_train)\n",
    "classes = ['c1', 'c2']\n",
    "legend = plt.legend(handles=scatter.legend_elements()[0], labels=classes)"
   ]
  },
  {
   "cell_type": "code",
   "execution_count": null,
   "metadata": {},
   "outputs": [],
   "source": []
  }
 ],
 "metadata": {
  "kernelspec": {
   "display_name": "Python 3",
   "language": "python",
   "name": "python3"
  },
  "language_info": {
   "codemirror_mode": {
    "name": "ipython",
    "version": 3
   },
   "file_extension": ".py",
   "mimetype": "text/x-python",
   "name": "python",
   "nbconvert_exporter": "python",
   "pygments_lexer": "ipython3",
   "version": "3.8.3"
  }
 },
 "nbformat": 4,
 "nbformat_minor": 4
}
