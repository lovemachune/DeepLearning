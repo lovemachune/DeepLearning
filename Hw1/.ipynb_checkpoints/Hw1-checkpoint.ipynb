{
 "cells": [
  {
   "cell_type": "code",
   "execution_count": 7,
   "metadata": {},
   "outputs": [],
   "source": [
    "import pandas as pd\n",
    "import numpy as np"
   ]
  },
  {
   "cell_type": "code",
   "execution_count": null,
   "metadata": {},
   "outputs": [],
   "source": [
    "class myNN():\n",
    "    def __init__(self, architecture):\n",
    "        self.architecture = architecture\n",
    "        self.params = {}\n",
    "    \n",
    "    def init_layers():\n",
    "        np.random.seed(99)\n",
    "        for index, layer in enumerate(self.architecture):\n",
    "            layer_index = index + 1\n",
    "            layer_input_size = layer['input_dim']\n",
    "            layer_output_size = layer['output_dim']\n",
    "            \n",
    "            self.params['w' + str(layer_index)] = np.random.randn(layer_output_size, layer_input_size) * 0.1\n",
    "            self.params['b' + str(layer_index)] = np.random.randn(layer_output_size, layer_input_size) * 0.1\n",
    "            \n",
    "    def sigmoid(x):\n",
    "        return 1/(1+np.exp(-x))\n",
    "    \n",
    "    def relu(x):\n",
    "        return np.maximum(0,x)\n",
    "    \n",
    "    def sigmoid_backward()"
   ]
  },
  {
   "cell_type": "code",
   "execution_count": 5,
   "metadata": {},
   "outputs": [],
   "source": [
    "# https://www.itread01.com/feffx.html\n",
    "data = pd.read_csv('energy_efficiency_data.csv')"
   ]
  }
 ],
 "metadata": {
  "kernelspec": {
   "display_name": "Python 3",
   "language": "python",
   "name": "python3"
  },
  "language_info": {
   "codemirror_mode": {
    "name": "ipython",
    "version": 3
   },
   "file_extension": ".py",
   "mimetype": "text/x-python",
   "name": "python",
   "nbconvert_exporter": "python",
   "pygments_lexer": "ipython3",
   "version": "3.8.3"
  }
 },
 "nbformat": 4,
 "nbformat_minor": 4
}
