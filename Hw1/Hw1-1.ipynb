{
 "cells": [
  {
   "cell_type": "code",
   "execution_count": 254,
   "metadata": {},
   "outputs": [],
   "source": [
    "import pandas as pd\n",
    "import numpy as np\n",
    "import random\n",
    "import copy\n",
    "import matplotlib.pyplot as plt\n",
    "from sklearn.model_selection import train_test_split\n",
    "from sklearn.utils import shuffle\n",
    "from sklearn.preprocessing import Normalizer"
   ]
  },
  {
   "cell_type": "code",
   "execution_count": 287,
   "metadata": {},
   "outputs": [],
   "source": [
    "class myNN():\n",
    "    def __init__(self, architecture, learning_rate):\n",
    "        self.architecture = architecture\n",
    "        self.learning_rate = learning_rate\n",
    "        self.params = {}\n",
    "        self.init_layers()\n",
    "        self.train_loss_history = []\n",
    "        self.test_loss_history = []\n",
    "        \n",
    "    def init_layers(self):\n",
    "        #np.random.seed(99)\n",
    "        for index, layer in enumerate(self.architecture):\n",
    "            layer_index = index + 1\n",
    "            layer_input_size = layer['input_dim']\n",
    "            layer_output_size = layer['output_dim']\n",
    "            self.params['W' + str(layer_index)] = np.random.randn(layer_output_size, layer_input_size)*0.1\n",
    "            self.params['b' + str(layer_index)] = np.random.randn(layer_output_size, 1)*0.1\n",
    "            #print(self.params['W'+str(layer_index)].shape)\n",
    "            #print(self.params['W'+str(layer_index)])\n",
    "            #print(self.params['b'+str(layer_index)])\n",
    "            #print(\"*******\")\n",
    "            \n",
    "    def sigmoid(self, Z):\n",
    "        return 1/(1+np.exp(-Z))\n",
    "    \n",
    "    def relu(self, Z):\n",
    "        return np.maximum(0,Z)\n",
    "    \n",
    "    def linear(self, Z):\n",
    "        return Z\n",
    "    \n",
    "    def sigmoid_backward(self, dA, Z):\n",
    "        sig = self.sigmoid(Z)\n",
    "        return dA*sig*(1-sig)\n",
    "    \n",
    "    def relu_backward(self, dA, Z):\n",
    "        dZ = np.array(dA, copy = True)\n",
    "        dZ[Z<=0] = 0\n",
    "        return dZ\n",
    "    \n",
    "    def linear_backward(self, dA, Z):\n",
    "        return dA\n",
    "    \n",
    "    def single_layer_FP(self, A_prev, W_curr, b_curr, activation='relu'):\n",
    "        #print(W_curr.shape)\n",
    "        #print(A_prev.shape)\n",
    "        Z_curr = np.dot(W_curr, A_prev) + b_curr\n",
    "        #print(Z_curr.shape)\n",
    "        #print(\"------\")\n",
    "        if activation == 'relu':\n",
    "            activation_func = self.relu\n",
    "        elif activation == 'sigmoid':\n",
    "            activation_func = self.sigmoid\n",
    "        elif activation == 'linear':\n",
    "            activation_func = self.linear\n",
    "        else:\n",
    "            raise Exception('Non-supported activation function')\n",
    "        return activation_func(Z_curr), Z_curr\n",
    "    \n",
    "    def forward_propagation(self, x):\n",
    "        memory = {}\n",
    "        A_curr = x\n",
    "        for index, layer in enumerate(self.architecture):\n",
    "            layer_index = index + 1\n",
    "            A_prev = A_curr\n",
    "            activation_func = layer['activation']\n",
    "            W_curr = self.params['W'+str(layer_index)]\n",
    "            b_curr = self.params['b'+str(layer_index)]\n",
    "            A_curr, Z_curr = self.single_layer_FP(A_prev, W_curr, b_curr, activation_func)\n",
    "            memory[\"A\"+str(index)] = A_prev\n",
    "            memory[\"Z\"+str(layer_index)] = Z_curr\n",
    "        return A_curr, memory\n",
    "        \n",
    "    def get_loss_value(self, y, y_predict):\n",
    "        #delta = y - y_predict\n",
    "        #loss = np.dot(delta, delta.T)\n",
    "        #return np.squeeze(loss)\n",
    "        return np.power(y_predict - y, 2).sum()\n",
    "    \n",
    "    def single_layer_BP(self, dA_curr, W_curr, b_curr, Z_curr, A_prev, activation='relu'):\n",
    "        if activation == 'relu':\n",
    "            activation_func = self.relu_backward\n",
    "        elif activation == 'sigmoid':\n",
    "            activation_func = self.sigmoid_backward\n",
    "        elif activation == 'linear':\n",
    "            activation_func = self.linear_backward\n",
    "        else:\n",
    "            raise Exception('Non-supported activation function')\n",
    "        dZ_curr = activation_func(dA_curr, Z_curr)\n",
    "        dW_curr = np.dot(dZ_curr, A_prev.T)\n",
    "        db_curr = np.sum(dZ_curr, axis=1, keepdims=True)\n",
    "        dA_prev = np.dot(W_curr.T, dZ_curr)\n",
    "        return dA_prev, dW_curr, db_curr\n",
    "    \n",
    "    def back_propagation(self, y_predict, y, memory):\n",
    "        grads_values = {}\n",
    "        dA_prev = 2*(y_predict-y)\n",
    "        #dA_prev = delta * np.ones(y.shape).reshape(1,-1)\n",
    "        for layer_prev_index, layer in reversed(list(enumerate(self.architecture))):\n",
    "            layer_cur_index = layer_prev_index+1\n",
    "            activation_func = layer['activation']\n",
    "            dA_curr = dA_prev\n",
    "            A_prev = memory['A' + str(layer_prev_index)]\n",
    "            Z_curr = memory['Z' + str(layer_cur_index)]\n",
    "            W_curr = self.params['W'+str(layer_cur_index)]\n",
    "            b_curr = self.params['b'+str(layer_cur_index)]\n",
    "            dA_prev, dW_curr, db_curr = self.single_layer_BP(dA_curr, W_curr, b_curr, Z_curr, A_prev, activation_func)\n",
    "            grads_values['dW'+str(layer_cur_index)] = dW_curr\n",
    "            grads_values['db'+str(layer_cur_index)] = db_curr\n",
    "        return grads_values\n",
    "    \n",
    "    def update(self, grads_values):\n",
    "        for index, layer in enumerate(self.architecture):\n",
    "            layer_idx = index + 1\n",
    "            self.params[\"W\" + str(layer_idx)] -= learning_rate * grads_values[\"dW\" + str(layer_idx)]        \n",
    "            self.params[\"b\" + str(layer_idx)] -= learning_rate * grads_values[\"db\" + str(layer_idx)]\n",
    "    \n",
    "    def train(self, x_train, y_train, x_test, y_test, epochs, batch_size=16):\n",
    "        for i in range(epochs):\n",
    "            x_train, y_train = shuffle(x_train, y_train)\n",
    "            for j in range(0 ,x_train.shape[0], batch_size):\n",
    "                start = j\n",
    "                end = j+batch_size\n",
    "                if end >= x_train.shape[0]:\n",
    "                    end = x_train.shape[0]-1\n",
    "                x_min = x_train[start:end]\n",
    "                y_min = y_train[start:end]\n",
    "                y_predict, memory = self.forward_propagation(x_min.T)\n",
    "                loss = self.get_loss_value(np.array([y_min]), y_predict)\n",
    "                grads_values = self.back_propagation(y_predict, np.array([y_min]), memory)\n",
    "                self.update(grads_values)\n",
    "            y_train_predict = self.predict(x_train.T)\n",
    "            y_test_predict = self.predict(x_test.T)\n",
    "            train_loss = self.get_loss_value(np.array([y_train]), y_train_predict)\n",
    "            test_loss = self.get_loss_value(np.array([y_test]), y_test_predict)\n",
    "            train_acc = self.accuracy(np.array([y_train]), y_train_predict)\n",
    "            test_acc = self.accuracy(np.array([y_test]), y_test_predict)\n",
    "            self.train_loss_history.append(train_loss)\n",
    "            self.test_loss_history.append(test_loss)\n",
    "            if (i+1) % 100 == 0:\n",
    "                print(\"Eposh : %4d/%d || training loss : %lf || training eval : %lf\" % (i+1, epochs, train_loss, train_acc),end=\" \")\n",
    "                print(\"|| testing loss : %lf || testing eval : %lf\" % (test_loss, test_acc))\n",
    "    \n",
    "    def show_parm(self):\n",
    "        print(self.params)\n",
    "    \n",
    "    def accuracy(self, y, y_predict):\n",
    "        power = np.power(y_predict - y, 2).mean()\n",
    "        return np.sqrt(power)\n",
    "    \n",
    "    def predict(self, x):\n",
    "        y_predict, memory = self.forward_propagation(x)\n",
    "        return np.squeeze(y_predict)\n",
    "    \n",
    "    def get_loss_history(self):\n",
    "        return self.train_loss_history, self.test_loss_history"
   ]
  },
  {
   "cell_type": "code",
   "execution_count": 288,
   "metadata": {},
   "outputs": [],
   "source": [
    "def show_graph(d1, d2, labels, length = 0, locs='upper left'):\n",
    "    t = range(len(d1))\n",
    "    if length != 0:\n",
    "        plt.plot(t[:length],d1[:length], 'r', label=labels[0])\n",
    "        plt.plot(t[:length],d2[:length], 'b', label=labels[1])\n",
    "    else:\n",
    "        plt.plot(t, d1, 'r', label=labels[0])\n",
    "        plt.plot(t, d2, 'b', label=labels[1])\n",
    "    plt.legend(loc=locs)\n",
    "    plt.show()"
   ]
  },
  {
   "cell_type": "code",
   "execution_count": 289,
   "metadata": {},
   "outputs": [],
   "source": [
    "def my_split_function(data, label, test_size):\n",
    "    random.seed(500)\n",
    "    data, label = shuffle(data, label)\n",
    "    train_len = int(len(data)*(1-test_size))\n",
    "    return (data[:train_len], data[train_len:], label[:train_len], label[train_len:])"
   ]
  },
  {
   "cell_type": "code",
   "execution_count": 299,
   "metadata": {},
   "outputs": [],
   "source": [
    "# https://quantdare.com/create-your-own-deep-learning-framework-using-numpy/\n",
    "# https://www.itread01.com/feffx.html\n",
    "# https://towardsdatascience.com/lets-code-a-neural-network-in-plain-numpy-ae7e74410795\n",
    "nn_architecture = [\n",
    "    {\"input_dim\": 16, \"output_dim\": 32, \"activation\": \"relu\"},\n",
    "    {\"input_dim\": 32, \"output_dim\": 16, \"activation\": \"relu\"},\n",
    "    {\"input_dim\": 16, \"output_dim\": 8, \"activation\": \"relu\"},\n",
    "    {\"input_dim\": 8, \"output_dim\": 1, \"activation\": \"linear\"},\n",
    "]\n",
    "learning_rate = 0.0000001"
   ]
  },
  {
   "cell_type": "code",
   "execution_count": 300,
   "metadata": {},
   "outputs": [],
   "source": [
    "# Orientation category : 2, 3, 4, 5\n",
    "# Glazing Area Distribution : 0, 1, 2, 3, 4, 5\n",
    "data = pd.read_csv('energy_efficiency_data.csv')\n",
    "heating = data.pop('Heating Load')\n",
    "cooling = data.pop('Cooling Load')"
   ]
  },
  {
   "cell_type": "code",
   "execution_count": 301,
   "metadata": {},
   "outputs": [],
   "source": [
    "# for one hot encoding\n",
    "Orient = pd.get_dummies(data['Orientation'])\n",
    "Glazing = pd.get_dummies(data['Glazing Area Distribution'])\n",
    "data = pd.concat([data,pd.get_dummies(data['Orientation'], prefix='Orientation')],axis=1)\n",
    "data = pd.concat([data,pd.get_dummies(data['Glazing Area Distribution'], prefix='Glazing Area Distribution')],axis=1)\n",
    "data.drop(['Orientation'],axis=1, inplace=True)\n",
    "data.drop(['Glazing Area Distribution'],axis=1, inplace=True)"
   ]
  },
  {
   "cell_type": "code",
   "execution_count": 302,
   "metadata": {},
   "outputs": [],
   "source": [
    "# split data\n",
    "#data = Normalizer(norm='l1').fit_transform(data)\n",
    "x_train, x_test, y_train, y_test = my_split_function(data.to_numpy(), heating.to_numpy(), test_size=0.25)"
   ]
  },
  {
   "cell_type": "code",
   "execution_count": 303,
   "metadata": {},
   "outputs": [],
   "source": [
    "model = myNN(nn_architecture, learning_rate)"
   ]
  },
  {
   "cell_type": "code",
   "execution_count": 304,
   "metadata": {
    "scrolled": true
   },
   "outputs": [
    {
     "name": "stdout",
     "output_type": "stream",
     "text": [
      "Eposh :  100/2000 || training loss : 19585.945977 || training eval : 5.831242 || testing loss : 7300.205582 || testing eval : 6.166190\n",
      "Eposh :  200/2000 || training loss : 17247.777879 || training eval : 5.472116 || testing loss : 6262.981719 || testing eval : 5.711366\n",
      "Eposh :  300/2000 || training loss : 17136.845064 || training eval : 5.454491 || testing loss : 6228.238284 || testing eval : 5.695502\n",
      "Eposh :  400/2000 || training loss : 16986.327498 || training eval : 5.430484 || testing loss : 6192.357278 || testing eval : 5.679072\n",
      "Eposh :  500/2000 || training loss : 16157.562827 || training eval : 5.296350 || testing loss : 5878.442125 || testing eval : 5.533253\n",
      "Eposh :  600/2000 || training loss : 15535.492305 || training eval : 5.193394 || testing loss : 5659.158610 || testing eval : 5.429068\n",
      "Eposh :  700/2000 || training loss : 14129.872641 || training eval : 4.952881 || testing loss : 5171.866090 || testing eval : 5.190068\n",
      "Eposh :  800/2000 || training loss : 13187.792649 || training eval : 4.784921 || testing loss : 4745.219460 || testing eval : 4.971387\n",
      "Eposh :  900/2000 || training loss : 12322.508107 || training eval : 4.625283 || testing loss : 4391.968207 || testing eval : 4.782764\n",
      "Eposh : 1000/2000 || training loss : 11522.713854 || training eval : 4.472663 || testing loss : 4085.561733 || testing eval : 4.612913\n",
      "Eposh : 1100/2000 || training loss : 11041.623806 || training eval : 4.378297 || testing loss : 3887.925058 || testing eval : 4.499957\n",
      "Eposh : 1200/2000 || training loss : 10252.258523 || training eval : 4.218893 || testing loss : 3726.357588 || testing eval : 4.405464\n",
      "Eposh : 1300/2000 || training loss : 9672.167317 || training eval : 4.097799 || testing loss : 3464.467302 || testing eval : 4.247835\n",
      "Eposh : 1400/2000 || training loss : 9419.882910 || training eval : 4.044003 || testing loss : 3314.937193 || testing eval : 4.155153\n",
      "Eposh : 1500/2000 || training loss : 9085.620483 || training eval : 3.971605 || testing loss : 3199.989397 || testing eval : 4.082476\n",
      "Eposh : 1600/2000 || training loss : 8831.212189 || training eval : 3.915605 || testing loss : 3159.971017 || testing eval : 4.056869\n",
      "Eposh : 1700/2000 || training loss : 8730.410874 || training eval : 3.893194 || testing loss : 3054.198528 || testing eval : 3.988394\n",
      "Eposh : 1800/2000 || training loss : 8496.710863 || training eval : 3.840734 || testing loss : 3027.230329 || testing eval : 3.970746\n",
      "Eposh : 1900/2000 || training loss : 8401.248405 || training eval : 3.819097 || testing loss : 2946.527404 || testing eval : 3.917461\n",
      "Eposh : 2000/2000 || training loss : 8293.719158 || training eval : 3.794577 || testing loss : 2914.508679 || testing eval : 3.896118\n"
     ]
    }
   ],
   "source": [
    "model.train(x_train, np.array(y_train), x_test, np.array(y_test), 2000, batch_size=16)"
   ]
  },
  {
   "cell_type": "code",
   "execution_count": 305,
   "metadata": {},
   "outputs": [
    {
     "data": {
      "image/png": "[encoded data removed]",
      "text/plain": [
       "<Figure size 432x288 with 1 Axes>"
      ]
     },
     "metadata": {
      "needs_background": "light"
     },
     "output_type": "display_data"
    }
   ],
   "source": [
    "y_predict = model.predict(x_train.T)\n",
    "y_predict = np.squeeze(y_predict)\n",
    "show_graph(y_predict, y_train, ['y_predict', 'y_train'], 40)"
   ]
  },
  {
   "cell_type": "code",
   "execution_count": 306,
   "metadata": {},
   "outputs": [
    {
     "data": {
      "image/png": "[encoded data removed]",
      "text/plain": [
       "<Figure size 432x288 with 1 Axes>"
      ]
     },
     "metadata": {
      "needs_background": "light"
     },
     "output_type": "display_data"
    }
   ],
   "source": [
    "y_predict = model.predict(x_test.T)\n",
    "y_predict = np.squeeze(y_predict)\n",
    "show_graph(y_predict, y_test, ['y_predict', 'y_test'], 40)"
   ]
  },
  {
   "cell_type": "code",
   "execution_count": 307,
   "metadata": {},
   "outputs": [
    {
     "data": {
      "image/png": "[encoded data removed]",
      "text/plain": [
       "<Figure size 432x288 with 1 Axes>"
      ]
     },
     "metadata": {
      "needs_background": "light"
     },
     "output_type": "display_data"
    }
   ],
   "source": [
    "train_loss, test_loss = model.get_loss_history()\n",
    "t = range(len(train_loss))\n",
    "show_graph(train_loss, test_loss, ['train_loss', 'test_loss'], locs='upper right')"
   ]
  },
  {
   "cell_type": "code",
   "execution_count": 308,
   "metadata": {},
   "outputs": [
    {
     "data": {
      "text/html": [
       "<div>\n",
       "<style scoped>\n",
       "    .dataframe tbody tr th:only-of-type {\n",
       "        vertical-align: middle;\n",
       "    }\n",
       "\n",
       "    .dataframe tbody tr th {\n",
       "        vertical-align: top;\n",
       "    }\n",
       "\n",
       "    .dataframe thead th {\n",
       "        text-align: right;\n",
       "    }\n",
       "</style>\n",
       "<table border=\"1\" class=\"dataframe\">\n",
       "  <thead>\n",
       "    <tr style=\"text-align: right;\">\n",
       "      <th></th>\n",
       "      <th># Relative Compactness</th>\n",
       "      <th>Surface Area</th>\n",
       "      <th>Wall Area</th>\n",
       "      <th>Roof Area</th>\n",
       "      <th>Overall Height</th>\n",
       "      <th>Glazing Area</th>\n",
       "      <th>Heating Load</th>\n",
       "      <th>Cooling Load</th>\n",
       "    </tr>\n",
       "  </thead>\n",
       "  <tbody>\n",
       "    <tr>\n",
       "      <th># Relative Compactness</th>\n",
       "      <td>1.000000e+00</td>\n",
       "      <td>-9.919015e-01</td>\n",
       "      <td>-2.037817e-01</td>\n",
       "      <td>-8.688234e-01</td>\n",
       "      <td>8.277473e-01</td>\n",
       "      <td>-3.209966e-18</td>\n",
       "      <td>0.622272</td>\n",
       "      <td>0.634339</td>\n",
       "    </tr>\n",
       "    <tr>\n",
       "      <th>Surface Area</th>\n",
       "      <td>-9.919015e-01</td>\n",
       "      <td>1.000000e+00</td>\n",
       "      <td>1.955016e-01</td>\n",
       "      <td>8.807195e-01</td>\n",
       "      <td>-8.581477e-01</td>\n",
       "      <td>3.631399e-17</td>\n",
       "      <td>-0.658120</td>\n",
       "      <td>-0.672999</td>\n",
       "    </tr>\n",
       "    <tr>\n",
       "      <th>Wall Area</th>\n",
       "      <td>-2.037817e-01</td>\n",
       "      <td>1.955016e-01</td>\n",
       "      <td>1.000000e+00</td>\n",
       "      <td>-2.923165e-01</td>\n",
       "      <td>2.809757e-01</td>\n",
       "      <td>1.036064e-17</td>\n",
       "      <td>0.455671</td>\n",
       "      <td>0.427117</td>\n",
       "    </tr>\n",
       "    <tr>\n",
       "      <th>Roof Area</th>\n",
       "      <td>-8.688234e-01</td>\n",
       "      <td>8.807195e-01</td>\n",
       "      <td>-2.923165e-01</td>\n",
       "      <td>1.000000e+00</td>\n",
       "      <td>-9.725122e-01</td>\n",
       "      <td>5.581108e-17</td>\n",
       "      <td>-0.861828</td>\n",
       "      <td>-0.862547</td>\n",
       "    </tr>\n",
       "    <tr>\n",
       "      <th>Overall Height</th>\n",
       "      <td>8.277473e-01</td>\n",
       "      <td>-8.581477e-01</td>\n",
       "      <td>2.809757e-01</td>\n",
       "      <td>-9.725122e-01</td>\n",
       "      <td>1.000000e+00</td>\n",
       "      <td>-2.481890e-18</td>\n",
       "      <td>0.889431</td>\n",
       "      <td>0.895785</td>\n",
       "    </tr>\n",
       "    <tr>\n",
       "      <th>Glazing Area</th>\n",
       "      <td>-3.209966e-18</td>\n",
       "      <td>3.631399e-17</td>\n",
       "      <td>1.036064e-17</td>\n",
       "      <td>5.581108e-17</td>\n",
       "      <td>-2.481890e-18</td>\n",
       "      <td>1.000000e+00</td>\n",
       "      <td>0.269841</td>\n",
       "      <td>0.207505</td>\n",
       "    </tr>\n",
       "    <tr>\n",
       "      <th>Heating Load</th>\n",
       "      <td>6.222722e-01</td>\n",
       "      <td>-6.581202e-01</td>\n",
       "      <td>4.556712e-01</td>\n",
       "      <td>-8.618283e-01</td>\n",
       "      <td>8.894307e-01</td>\n",
       "      <td>2.698410e-01</td>\n",
       "      <td>1.000000</td>\n",
       "      <td>0.975862</td>\n",
       "    </tr>\n",
       "    <tr>\n",
       "      <th>Cooling Load</th>\n",
       "      <td>6.343391e-01</td>\n",
       "      <td>-6.729989e-01</td>\n",
       "      <td>4.271170e-01</td>\n",
       "      <td>-8.625466e-01</td>\n",
       "      <td>8.957852e-01</td>\n",
       "      <td>2.075050e-01</td>\n",
       "      <td>0.975862</td>\n",
       "      <td>1.000000</td>\n",
       "    </tr>\n",
       "  </tbody>\n",
       "</table>\n",
       "</div>"
      ],
      "text/plain": [
       "                        # Relative Compactness  Surface Area     Wall Area  \\\n",
       "# Relative Compactness            1.000000e+00 -9.919015e-01 -2.037817e-01   \n",
       "Surface Area                     -9.919015e-01  1.000000e+00  1.955016e-01   \n",
       "Wall Area                        -2.037817e-01  1.955016e-01  1.000000e+00   \n",
       "Roof Area                        -8.688234e-01  8.807195e-01 -2.923165e-01   \n",
       "Overall Height                    8.277473e-01 -8.581477e-01  2.809757e-01   \n",
       "Glazing Area                     -3.209966e-18  3.631399e-17  1.036064e-17   \n",
       "Heating Load                      6.222722e-01 -6.581202e-01  4.556712e-01   \n",
       "Cooling Load                      6.343391e-01 -6.729989e-01  4.271170e-01   \n",
       "\n",
       "                           Roof Area  Overall Height  Glazing Area  \\\n",
       "# Relative Compactness -8.688234e-01    8.277473e-01 -3.209966e-18   \n",
       "Surface Area            8.807195e-01   -8.581477e-01  3.631399e-17   \n",
       "Wall Area              -2.923165e-01    2.809757e-01  1.036064e-17   \n",
       "Roof Area               1.000000e+00   -9.725122e-01  5.581108e-17   \n",
       "Overall Height         -9.725122e-01    1.000000e+00 -2.481890e-18   \n",
       "Glazing Area            5.581108e-17   -2.481890e-18  1.000000e+00   \n",
       "Heating Load           -8.618283e-01    8.894307e-01  2.698410e-01   \n",
       "Cooling Load           -8.625466e-01    8.957852e-01  2.075050e-01   \n",
       "\n",
       "                        Heating Load  Cooling Load  \n",
       "# Relative Compactness      0.622272      0.634339  \n",
       "Surface Area               -0.658120     -0.672999  \n",
       "Wall Area                   0.455671      0.427117  \n",
       "Roof Area                  -0.861828     -0.862547  \n",
       "Overall Height              0.889431      0.895785  \n",
       "Glazing Area                0.269841      0.207505  \n",
       "Heating Load                1.000000      0.975862  \n",
       "Cooling Load                0.975862      1.000000  "
      ]
     },
     "execution_count": 308,
     "metadata": {},
     "output_type": "execute_result"
    }
   ],
   "source": [
    "# calculate correction\n",
    "# we need to pop the categorical feature beacuse I think it can't be calculated with corr\n",
    "data = pd.read_csv('energy_efficiency_data.csv')\n",
    "data.pop('Orientation')\n",
    "data.pop('Glazing Area Distribution')\n",
    "data.corr()"
   ]
  },
  {
   "cell_type": "code",
   "execution_count": 309,
   "metadata": {},
   "outputs": [
    {
     "name": "stdout",
     "output_type": "stream",
     "text": [
      "     Surface Area  Roof Area  Overall Height  Heating Load\n",
      "0           514.5     110.25             7.0         15.55\n",
      "1           514.5     110.25             7.0         15.55\n",
      "2           514.5     110.25             7.0         15.55\n",
      "3           563.5     122.50             7.0         20.84\n",
      "4           563.5     122.50             7.0         21.46\n",
      "..            ...        ...             ...           ...\n",
      "763         710.5     220.50             3.5         12.43\n",
      "764         735.0     220.50             3.5         14.28\n",
      "765         759.5     220.50             3.5         14.92\n",
      "766         784.0     220.50             3.5         18.19\n",
      "767         808.5     220.50             3.5         16.48\n",
      "\n",
      "[768 rows x 4 columns]\n"
     ]
    }
   ],
   "source": [
    "# we choose higer corr such about Roof Area, Overall Height, Surface Aread\n",
    "data.pop('# Relative Compactness')\n",
    "data.pop('Wall Area')\n",
    "data.pop('Glazing Area')\n",
    "data.pop('Cooling Load')\n",
    "print(data)\n",
    "heating = data.pop('Heating Load')"
   ]
  },
  {
   "cell_type": "code",
   "execution_count": 310,
   "metadata": {},
   "outputs": [],
   "source": [
    "nn_architecture = [\n",
    "    {\"input_dim\": 3, \"output_dim\": 32, \"activation\": \"relu\"},\n",
    "    {\"input_dim\": 32, \"output_dim\": 16, \"activation\": \"relu\"},\n",
    "    {\"input_dim\": 16, \"output_dim\": 8, \"activation\": \"relu\"},\n",
    "    {\"input_dim\": 8, \"output_dim\": 1, \"activation\": \"linear\"},\n",
    "]\n",
    "learning_rate = 0.0000001\n",
    "x_train, x_test, y_train, y_test = my_split_function(data.to_numpy(), heating.to_numpy(), test_size=0.25)\n",
    "model = myNN(nn_architecture, learning_rate)"
   ]
  },
  {
   "cell_type": "code",
   "execution_count": null,
   "metadata": {
    "scrolled": true
   },
   "outputs": [
    {
     "name": "stdout",
     "output_type": "stream",
     "text": [
      "Eposh :  100/2000 || training loss : 64843.287024 || training eval : 10.610144 || testing loss : 18319.458992 || testing eval : 9.768001\n",
      "Eposh :  200/2000 || training loss : 20270.162838 || training eval : 5.932222 || testing loss : 6331.807630 || testing eval : 5.742662\n",
      "Eposh :  300/2000 || training loss : 20041.360790 || training eval : 5.898646 || testing loss : 6260.428784 || testing eval : 5.710201\n",
      "Eposh :  400/2000 || training loss : 20000.954607 || training eval : 5.892697 || testing loss : 6247.445963 || testing eval : 5.704277\n",
      "Eposh :  500/2000 || training loss : 19890.786108 || training eval : 5.876446 || testing loss : 6211.379177 || testing eval : 5.687788\n",
      "Eposh :  600/2000 || training loss : 19701.129370 || training eval : 5.848363 || testing loss : 6108.316877 || testing eval : 5.640403\n",
      "Eposh :  700/2000 || training loss : 19420.935161 || training eval : 5.806626 || testing loss : 6014.023611 || testing eval : 5.596699\n",
      "Eposh :  800/2000 || training loss : 19665.264074 || training eval : 5.843037 || testing loss : 6076.292259 || testing eval : 5.625598\n",
      "Eposh :  900/2000 || training loss : 18943.841945 || training eval : 5.734860 || testing loss : 5871.182143 || testing eval : 5.529835\n",
      "Eposh : 1000/2000 || training loss : 18631.360229 || training eval : 5.687364 || testing loss : 5748.650101 || testing eval : 5.471827\n",
      "Eposh : 1100/2000 || training loss : 18440.691290 || training eval : 5.658188 || testing loss : 5694.616971 || testing eval : 5.446050\n",
      "Eposh : 1200/2000 || training loss : 18315.503295 || training eval : 5.638949 || testing loss : 5616.110336 || testing eval : 5.408380\n",
      "Eposh : 1300/2000 || training loss : 18076.270464 || training eval : 5.602001 || testing loss : 5555.968121 || testing eval : 5.379343\n",
      "Eposh : 1400/2000 || training loss : 18225.912435 || training eval : 5.625141 || testing loss : 5575.230052 || testing eval : 5.388660\n",
      "Eposh : 1500/2000 || training loss : 17950.429393 || training eval : 5.582467 || testing loss : 5468.546041 || testing eval : 5.336854\n",
      "Eposh : 1600/2000 || training loss : 17535.567957 || training eval : 5.517580 || testing loss : 5353.007391 || testing eval : 5.280175\n",
      "Eposh : 1700/2000 || training loss : 17241.425105 || training eval : 5.471109 || testing loss : 5266.639957 || testing eval : 5.237406\n",
      "Eposh : 1800/2000 || training loss : 17061.532351 || training eval : 5.442492 || testing loss : 5200.038813 || testing eval : 5.204184\n"
     ]
    }
   ],
   "source": [
    "model.train(x_train, np.array(y_train), x_test, np.array(y_test), 2000, batch_size=16)"
   ]
  },
  {
   "cell_type": "code",
   "execution_count": null,
   "metadata": {},
   "outputs": [],
   "source": [
    "y_predict = model.predict(x_train.T)\n",
    "y_predict = np.squeeze(y_predict)\n",
    "show_graph(y_predict, y_train, ['y_predict', 'y_train'], 40)"
   ]
  },
  {
   "cell_type": "code",
   "execution_count": null,
   "metadata": {},
   "outputs": [],
   "source": [
    "y_predict = model.predict(x_test.T)\n",
    "y_predict = np.squeeze(y_predict)\n",
    "show_graph(y_predict, y_test, ['y_predict', 'y_test'], 40)"
   ]
  },
  {
   "cell_type": "code",
   "execution_count": null,
   "metadata": {},
   "outputs": [],
   "source": [
    "train_loss, test_loss = model.get_loss_history()\n",
    "t = range(len(train_loss))\n",
    "show_graph(train_loss, test_loss, ['train_loss', 'test_loss'], locs='upper right')"
   ]
  },
  {
   "cell_type": "code",
   "execution_count": null,
   "metadata": {},
   "outputs": [],
   "source": [
    "# if we think the cacategorical features are also import feature\n",
    "data = pd.read_csv('energy_efficiency_data.csv')\n",
    "Orient = pd.get_dummies(data['Orientation'])\n",
    "Glazing = pd.get_dummies(data['Glazing Area Distribution'])\n",
    "data = pd.concat([data,pd.get_dummies(data['Orientation'], prefix='Orientation')],axis=1)\n",
    "data = pd.concat([data,pd.get_dummies(data['Glazing Area Distribution'], prefix='Glazing Area Distribution')],axis=1)\n",
    "data.drop(['Orientation'],axis=1, inplace=True)\n",
    "data.drop(['Glazing Area Distribution'],axis=1, inplace=True)\n",
    "data.pop('# Relative Compactness')\n",
    "data.pop('Wall Area')\n",
    "data.pop('Glazing Area')\n",
    "data.pop('Cooling Load')\n",
    "heating = data.pop('Heating Load')"
   ]
  },
  {
   "cell_type": "code",
   "execution_count": null,
   "metadata": {},
   "outputs": [],
   "source": [
    "nn_architecture = [\n",
    "    {\"input_dim\": 13, \"output_dim\": 32, \"activation\": \"relu\"},\n",
    "    {\"input_dim\": 32, \"output_dim\": 16, \"activation\": \"relu\"},\n",
    "    {\"input_dim\": 16, \"output_dim\": 8, \"activation\": \"relu\"},\n",
    "    {\"input_dim\": 8, \"output_dim\": 1, \"activation\": \"linear\"},\n",
    "]\n",
    "learning_rate = 0.0000001\n",
    "x_train, x_test, y_train, y_test = my_split_function(data.to_numpy(), heating.to_numpy(), test_size=0.25)\n",
    "model = myNN(nn_architecture, learning_rate)"
   ]
  },
  {
   "cell_type": "code",
   "execution_count": null,
   "metadata": {},
   "outputs": [],
   "source": [
    "model.train(x_train, np.array(y_train), x_test, np.array(y_test), 2000, batch_size=16)"
   ]
  },
  {
   "cell_type": "code",
   "execution_count": null,
   "metadata": {},
   "outputs": [],
   "source": [
    "y_predict = model.predict(x_train.T)\n",
    "y_predict = np.squeeze(y_predict)\n",
    "show_graph(y_predict, y_train, ['y_predict', 'y_train'], 40)"
   ]
  },
  {
   "cell_type": "code",
   "execution_count": null,
   "metadata": {},
   "outputs": [],
   "source": [
    "y_predict = model.predict(x_test.T)\n",
    "y_predict = np.squeeze(y_predict)\n",
    "show_graph(y_predict, y_test, ['y_predict', 'y_test'], 40)"
   ]
  },
  {
   "cell_type": "code",
   "execution_count": null,
   "metadata": {},
   "outputs": [],
   "source": [
    "train_loss, test_loss = model.get_loss_history()\n",
    "t = range(len(train_loss))\n",
    "show_graph(train_loss, test_loss, ['train_loss', 'test_loss'], locs='upper right')"
   ]
  },
  {
   "cell_type": "code",
   "execution_count": null,
   "metadata": {},
   "outputs": [],
   "source": []
  }
 ],
 "metadata": {
  "kernelspec": {
   "display_name": "Python 3",
   "language": "python",
   "name": "python3"
  },
  "language_info": {
   "codemirror_mode": {
    "name": "ipython",
    "version": 3
   },
   "file_extension": ".py",
   "mimetype": "text/x-python",
   "name": "python",
   "nbconvert_exporter": "python",
   "pygments_lexer": "ipython3",
   "version": "3.8.3"
  }
 },
 "nbformat": 4,
 "nbformat_minor": 4
}
