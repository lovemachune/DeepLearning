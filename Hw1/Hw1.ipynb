{
 "cells": [
  {
   "cell_type": "code",
   "execution_count": 7,
   "metadata": {},
   "outputs": [],
   "source": [
    "import pandas as pd\n",
    "import numpy as np"
   ]
  },
  {
   "cell_type": "code",
   "execution_count": 1,
   "metadata": {},
   "outputs": [],
   "source": [
    "class myNN():\n",
    "    def __init__(self, architecture):\n",
    "        self.architecture = architecture\n",
    "        self.params = {}\n",
    "    \n",
    "    def init_layers():\n",
    "        np.random.seed(99)\n",
    "        for index, layer in enumerate(self.architecture):\n",
    "            layer_index = index + 1\n",
    "            layer_input_size = layer['input_dim']\n",
    "            layer_output_size = layer['output_dim']\n",
    "            self.params['W' + str(layer_index)] = np.random.randn(layer_output_size, layer_input_size) * 0.1\n",
    "            self.params['b' + str(layer_index)] = np.random.randn(layer_output_size, layer_input_size) * 0.1\n",
    "            \n",
    "    def sigmoid(Z):\n",
    "        return 1/(1+np.exp(-Z))\n",
    "    \n",
    "    def relu(Z):\n",
    "        return np.maximum(0,Z)\n",
    "    \n",
    "    def sigmoid_backward(dA, Z):\n",
    "        sig = sigmoid(Z)\n",
    "        return dA*sig*(1-sig)\n",
    "    \n",
    "    def relu_backward(dA, Z):\n",
    "        dZ = np.arrary(dA, copy = True)\n",
    "        dZ[x<=0] = 0\n",
    "        return dx\n",
    "    \n",
    "    def single_layer_FP(A_prev, W_curr, b_curr, activation='relu'):\n",
    "        Z_curr = np.dot(W_curr, A_prev) + b_curr\n",
    "        if activation is 'relu':\n",
    "            activation_func = self.relu\n",
    "        else:\n",
    "            activation_func = self.sigmoid\n",
    "        return activation_func(Z_curr), Z_curr\n",
    "    \n",
    "    def forward_propagation(x):\n",
    "        memory = {}\n",
    "        A_curr = x\n",
    "        for index, layer in enumerate(self.architecture):\n",
    "            layer_index = index + 1\n",
    "            A_prev = A_curr\n",
    "            activation_func = layer['activation']\n",
    "            W_curr = self.params['W'+str(layer_index)]\n",
    "            b_curr = self.params['b'+str(layer_index)]\n",
    "            A_curr, Z_curr = single_layer_FP(A_prev, W_curr, b_curr, activation_func)\n",
    "            memory[\"A\"+str(index)] = A_prev\n",
    "            memory[\"Z\"+str(index)] = Z_curr\n",
    "            return A_curr, memory\n",
    "        \n",
    "    def get_cost_value(Y_true, Y):\n",
    "        delta = Y_true - Y\n",
    "        cost = np.dot(delta, delta.T)\n",
    "        return np.squeeze(cost)\n",
    "    \n",
    "    def single_layer_BP(dA_curr, W_curr, b_curr, Z_curr, A_prev, activation='relu'):\n",
    "        m = A_prev.shape[1]\n",
    "        if activation is 'relu':\n",
    "            activation_func = self.relu_backward\n",
    "        else:\n",
    "            activation_func = self.sigmoid_backward\n",
    "        dZ_curr = activation_func(dA_curr, Z_curr)\n",
    "        dW_curr = np.dot(dZ_curr, A_prev.T)/m\n",
    "        db_curr = np.sum(dZ_curr, axis=1, keepdims=True)/m\n",
    "        dA_prev = np.dot(W_curr.T, dZ_curr)\n",
    "        return dA_prev, dW_curr, db_curr\n",
    "    "
   ]
  },
  {
   "cell_type": "code",
   "execution_count": 5,
   "metadata": {},
   "outputs": [],
   "source": [
    "# https://www.itread01.com/feffx.html\n",
    "#https://towardsdatascience.com/lets-code-a-neural-network-in-plain-numpy-ae7e74410795\n",
    "data = pd.read_csv('energy_efficiency_data.csv')"
   ]
  }
 ],
 "metadata": {
  "kernelspec": {
   "display_name": "Python 3",
   "language": "python",
   "name": "python3"
  },
  "language_info": {
   "codemirror_mode": {
    "name": "ipython",
    "version": 3
   },
   "file_extension": ".py",
   "mimetype": "text/x-python",
   "name": "python",
   "nbconvert_exporter": "python",
   "pygments_lexer": "ipython3",
   "version": "3.7.6"
  }
 },
 "nbformat": 4,
 "nbformat_minor": 4
}
